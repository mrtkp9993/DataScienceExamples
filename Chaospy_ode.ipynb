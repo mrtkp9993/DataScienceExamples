{
  "nbformat": 4,
  "nbformat_minor": 0,
  "metadata": {
    "colab": {
      "name": "Chaospy_ode",
      "provenance": [],
      "collapsed_sections": [],
      "authorship_tag": "ABX9TyO3zcxgPKdszpijvJUUsTWD",
      "include_colab_link": true
    },
    "kernelspec": {
      "name": "python3",
      "display_name": "Python 3"
    },
    "language_info": {
      "name": "python"
    }
  },
  "cells": [
    {
      "cell_type": "markdown",
      "metadata": {
        "id": "view-in-github",
        "colab_type": "text"
      },
      "source": [
        "<a href=\"https://colab.research.google.com/github/mrtkp9993/DataSciencePython/blob/main/Chaospy_ode.ipynb\" target=\"_parent\"><img src=\"https://colab.research.google.com/assets/colab-badge.svg\" alt=\"Open In Colab\"/></a>"
      ]
    },
    {
      "cell_type": "code",
      "metadata": {
        "id": "8iiXfuQ-tZv8"
      },
      "source": [
        "import chaospy\n",
        "import numpy as np\n",
        "from scipy.integrate import odeint\n",
        "from matplotlib import pyplot\n",
        "pyplot.rc(\"figure\", figsize=[15, 6])"
      ],
      "execution_count": 13,
      "outputs": []
    },
    {
      "cell_type": "code",
      "metadata": {
        "id": "84qUarcIthuG"
      },
      "source": [
        "def ode_logistic(variables, coordinates, parameters):\n",
        "    var_y = variables\n",
        "    yasm, beta = parameters\n",
        "\n",
        "    delta_y = (beta / yasm) * var_y * (yasm - var_y)\n",
        "\n",
        "    return delta_y"
      ],
      "execution_count": 5,
      "outputs": []
    },
    {
      "cell_type": "code",
      "metadata": {
        "id": "E4xzNZhmuGiL"
      },
      "source": [
        "def initial_condition(delta):\n",
        "    return 3"
      ],
      "execution_count": 6,
      "outputs": []
    },
    {
      "cell_type": "code",
      "metadata": {
        "id": "mZMJGN8euMjX"
      },
      "source": [
        "yasm = chaospy.Uniform(5.0, 200.0)\n",
        "beta = chaospy.Uniform(0.1, 1.5)\n",
        "distribution = chaospy.J(yasm, beta)"
      ],
      "execution_count": 27,
      "outputs": []
    },
    {
      "cell_type": "code",
      "metadata": {
        "colab": {
          "base_uri": "https://localhost:8080/"
        },
        "id": "4xdJic7Pudfr",
        "outputId": "3aa4465d-2809-4ad2-ac5f-44e36998e6e2"
      },
      "source": [
        "parameters = chaospy.E(distribution)\n",
        "parameters"
      ],
      "execution_count": 28,
      "outputs": [
        {
          "output_type": "execute_result",
          "data": {
            "text/plain": [
              "array([102.5,   0.8])"
            ]
          },
          "metadata": {
            "tags": []
          },
          "execution_count": 28
        }
      ]
    },
    {
      "cell_type": "code",
      "metadata": {
        "id": "sYMPxlx7ufRt"
      },
      "source": [
        "time_span = numpy.linspace(0, 30, 1000)\n",
        "responses = odeint(ode_logistic, initial_condition(delta=1e-4), time_span, args=(parameters,))"
      ],
      "execution_count": 31,
      "outputs": []
    },
    {
      "cell_type": "code",
      "metadata": {
        "colab": {
          "base_uri": "https://localhost:8080/",
          "height": 421
        },
        "id": "3LWH1QDDunPG",
        "outputId": "8a55773c-9c5f-4c7c-f47e-e9a2ebdc6563"
      },
      "source": [
        "from matplotlib import pyplot\n",
        "\n",
        "labels = ['Logistic']\n",
        "for response, label in zip(responses.T, labels):\n",
        "    pyplot.plot(time_span, response, label=label)\n",
        "\n",
        "pyplot.title('Logistic model')\n",
        "pyplot.xlabel('Time')\n",
        "pyplot.ylabel('Growth')\n",
        "pyplot.legend()"
      ],
      "execution_count": 32,
      "outputs": [
        {
          "output_type": "execute_result",
          "data": {
            "text/plain": [
              "<matplotlib.legend.Legend at 0x7f0234a890d0>"
            ]
          },
          "metadata": {
            "tags": []
          },
          "execution_count": 32
        },
        {
          "output_type": "display_data",
          "data": {
            "image/png": "[encoded data removed]",
            "text/plain": [
              "<Figure size 1080x432 with 1 Axes>"
            ]
          },
          "metadata": {
            "tags": [],
            "needs_background": "light"
          }
        }
      ]
    },
    {
      "cell_type": "code",
      "metadata": {
        "colab": {
          "base_uri": "https://localhost:8080/"
        },
        "id": "JlyBaQR1uuQg",
        "outputId": "16d92e58-cf30-429b-d904-0769f68e6f62"
      },
      "source": [
        "polynomial_order = 3\n",
        "polynomial_expansion = chaospy.generate_expansion(polynomial_order, distribution)\n",
        "polynomial_expansion[:5].round(5)"
      ],
      "execution_count": 33,
      "outputs": [
        {
          "output_type": "execute_result",
          "data": {
            "text/plain": [
              "polynomial([1.0, q1-0.8, q0-102.5, q1**2-1.6*q1+0.47667,\n",
              "            q0*q1-102.5*q1-0.8*q0+82.0])"
            ]
          },
          "metadata": {
            "tags": []
          },
          "execution_count": 33
        }
      ]
    },
    {
      "cell_type": "code",
      "metadata": {
        "id": "sB4tkp68vypc"
      },
      "source": [
        "quadrature_order = 8\n",
        "abscissas, weights = chaospy.generate_quadrature(\n",
        "    quadrature_order, distribution, rule=\"gaussian\")"
      ],
      "execution_count": 35,
      "outputs": []
    },
    {
      "cell_type": "code",
      "metadata": {
        "id": "HwrxCAd1wJ5B"
      },
      "source": [
        "def model_solver(parameters, delta=1e-4):\n",
        "    return odeint(ode_seir, initial_condition(delta), time_span, args=(parameters,))"
      ],
      "execution_count": 36,
      "outputs": []
    },
    {
      "cell_type": "code",
      "metadata": {
        "id": "xUCIT00bwM94"
      },
      "source": [
        "from multiprocessing import Pool\n",
        "\n",
        "with Pool(4) as pool:\n",
        "    evaluations = pool.map(model_solver, abscissas.T)"
      ],
      "execution_count": 37,
      "outputs": []
    },
    {
      "cell_type": "code",
      "metadata": {
        "id": "ku7dUprawO6v"
      },
      "source": [
        "model_approx = chaospy.fit_quadrature(\n",
        "    polynomial_expansion, abscissas, weights, evaluations)"
      ],
      "execution_count": 38,
      "outputs": []
    },
    {
      "cell_type": "code",
      "metadata": {
        "id": "ThAH6M2ywQsH"
      },
      "source": [
        "expected = chaospy.E(model_approx, distribution)\n",
        "std = chaospy.Std(model_approx, distribution)"
      ],
      "execution_count": 39,
      "outputs": []
    },
    {
      "cell_type": "code",
      "metadata": {
        "colab": {
          "base_uri": "https://localhost:8080/",
          "height": 421
        },
        "id": "xCkE78zUwSw2",
        "outputId": "8eb577f9-1216-4d35-f225-1cc43880bf35"
      },
      "source": [
        "for mu, sigma, label in zip(expected.T, std.T, labels):\n",
        "    pyplot.fill_between(\n",
        "        time_span, mu-sigma, mu+sigma, alpha=0.3)\n",
        "    pyplot.plot(time_span, mu, label=label)\n",
        "\n",
        "pyplot.title('Logistic model')\n",
        "pyplot.xlabel('Time')\n",
        "pyplot.ylabel('Growth')\n",
        "pyplot.legend()"
      ],
      "execution_count": 40,
      "outputs": [
        {
          "output_type": "execute_result",
          "data": {
            "text/plain": [
              "<matplotlib.legend.Legend at 0x7f023409fe10>"
            ]
          },
          "metadata": {
            "tags": []
          },
          "execution_count": 40
        },
        {
          "output_type": "display_data",
          "data": {
            "image/png": "[encoded data removed]",
            "text/plain": [
              "<Figure size 1080x432 with 1 Axes>"
            ]
          },
          "metadata": {
            "tags": [],
            "needs_background": "light"
          }
        }
      ]
    },
    {
      "cell_type": "code",
      "metadata": {
        "id": "n81OSQ6_wXVC"
      },
      "source": [
        ""
      ],
      "execution_count": null,
      "outputs": []
    }
  ]
}